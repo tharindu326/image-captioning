{
 "cells": [
  {
   "cell_type": "code",
   "execution_count": 1,
   "metadata": {},
   "outputs": [],
   "source": [
    "import csv\n",
    "import os\n",
    "import random\n",
    "import shutil\n",
    "\n",
    "\n",
    "def extract_info_from_csv(main_folder, phase, output_dir, num_images=None, shuffle=True):\n",
    "    \"\"\"\n",
    "    Extracts information from a CSV file and returns it as a list of dictionaries.\n",
    "    :param csv_path: Path to the CSV file\n",
    "    :param num_images: Number of images to extract, if None extracts all\n",
    "    :return: List of dictionaries containing image details\n",
    "    \"\"\"\n",
    "\n",
    "    data = []\n",
    "    csv_path = os.path.join(main_folder, phase, f'radiology{phase}data.csv')\n",
    "    with open(csv_path, 'r', encoding='utf-8') as file:\n",
    "        reader = csv.reader(file)\n",
    "        for row in reader:\n",
    "            img_id, img_path, caption = row\n",
    "            data.append({\n",
    "                            img_id: {'image_path': img_path,\n",
    "                                     'caption': caption.replace(\"\\n\", '')}\n",
    "                        })\n",
    "    if shuffle:\n",
    "        random.shuffle(data)\n",
    "    if num_images is not None:\n",
    "        data = data[:num_images]\n",
    "    # generate a directory and copy the dataset\n",
    "    if output_dir:\n",
    "        # Create output directory if it doesn't exist\n",
    "        if not os.path.exists(output_dir):\n",
    "            os.makedirs(output_dir)\n",
    "\n",
    "        for entry in data:\n",
    "            # Construct the new image path\n",
    "            rad = 'radiology'\n",
    "            old_img_path = os.path.join(main_folder, phase, rad, 'images', list(entry.values())[0]['image_path'])\n",
    "            new_img_path = os.path.join(output_dir, phase, rad, 'images', os.path.basename(list(entry.values())[0]['image_path']))\n",
    "            if not os.path.isfile(old_img_path):\n",
    "                rad = 'non-radiology'\n",
    "                old_img_path = os.path.join(main_folder, phase, rad, 'images',\n",
    "                                            list(entry.values())[0]['image_path'])\n",
    "                new_img_path = os.path.join(output_dir, phase, rad, 'images', os.path.basename(list(entry.values())[0]['image_path']))\n",
    "                if not os.path.isfile(old_img_path):\n",
    "                    print(f\"NOTFOUND skipping image {old_img_path}\")\n",
    "                    continue\n",
    "            # Copy the image\n",
    "            os.makedirs(os.path.dirname(new_img_path), exist_ok=True)\n",
    "            shutil.copy(old_img_path, new_img_path)\n",
    "\n",
    "            # Update the image path in the dictionary to the new path\n",
    "            entry[list(entry.keys())[0]]['image_path'] = new_img_path\n",
    "\n",
    "            # Write the captions to the new captions.txt file\n",
    "            with open(os.path.join(output_dir, phase, rad, 'captions.txt'), 'a', encoding='utf-8') as out_file:\n",
    "                out_file.write(f\"{list(entry.keys())[0]}\\t{list(entry.values())[0]['caption']}\\n\")\n",
    "    return data"
   ]
  },
  {
   "cell_type": "code",
   "execution_count": 2,
   "metadata": {},
   "outputs": [],
   "source": [
    "import json\n",
    "\n",
    "\n",
    "def generate_dataset(main_folder, output_json_path, test_count, train_count, validation_count, output_dir, all_images=False):\n",
    "    \"\"\"\n",
    "    Traverse the main folder, read CSV files, and create a JSON file with image details.\n",
    "    \"\"\"\n",
    "\n",
    "    dataset_info = {\n",
    "        'train': [],\n",
    "        'validation': [],\n",
    "        'test': []\n",
    "    }\n",
    "    if all_images:\n",
    "        test_count, train_count, validation_count = None, None, None\n",
    "    image_counts = {\n",
    "        'train': train_count,\n",
    "        'validation': validation_count,\n",
    "        'test': test_count\n",
    "    }\n",
    "    for phase, count in image_counts.items():\n",
    "        dataset_info[phase] = extract_info_from_csv(main_folder, phase, num_images=count, output_dir=output_dir)\n",
    "    with open(output_json_path, 'w') as out_file:\n",
    "        json.dump(dataset_info, out_file, indent=4)"
   ]
  },
  {
   "cell_type": "code",
   "execution_count": 3,
   "metadata": {},
   "outputs": [
    {
     "name": "stdout",
     "output_type": "stream",
     "text": [
      "NOTFOUND skipping image ROCO\\train\\non-radiology\\images\\PMC4345544_yjbm_88_1_93_g05.jpg\n",
      "NOTFOUND skipping image ROCO\\train\\non-radiology\\images\\PMC4156025_f1000research-3-3454-g0000.jpg\n",
      "NOTFOUND skipping image ROCO\\validation\\non-radiology\\images\\PMC3277920_PHLEB-10-100-g2.jpg\n"
     ]
    }
   ],
   "source": [
    "main_folder = 'ROCO'  # 'Path to the main dataset folder'\n",
    "output_json = 'selected_dataset/selected_dataset_info.json'  # 'Path to save the generated JSON file'\n",
    "output_dir = 'selected_dataset'  # 'Path to save the dataset'\n",
    "test = 50  # 'Number of images to select from test\n",
    "train = 2000  # 'Number of images to select from train'\n",
    "valid = 500  # 'Number of images to select from validation'\n",
    "all = False  # 'Flag to select all images'\n",
    "generate_dataset(main_folder, output_json, test, train, valid, output_dir, all)"
   ]
  }
 ],
 "metadata": {
  "kernelspec": {
   "display_name": "myenv",
   "language": "python",
   "name": "python3"
  },
  "language_info": {
   "codemirror_mode": {
    "name": "ipython",
    "version": 3
   },
   "file_extension": ".py",
   "mimetype": "text/x-python",
   "name": "python",
   "nbconvert_exporter": "python",
   "pygments_lexer": "ipython3",
   "version": "3.10.2"
  }
 },
 "nbformat": 4,
 "nbformat_minor": 2
}
