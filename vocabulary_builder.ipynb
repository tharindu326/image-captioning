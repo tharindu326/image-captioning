{
 "cells": [
  {
   "cell_type": "code",
   "execution_count": 1,
   "metadata": {},
   "outputs": [
    {
     "name": "stderr",
     "output_type": "stream",
     "text": [
      "[nltk_data] Downloading package punkt to\n",
      "[nltk_data]     C:\\Users\\Zoomi\\AppData\\Roaming\\nltk_data...\n",
      "[nltk_data]   Package punkt is already up-to-date!\n"
     ]
    }
   ],
   "source": [
    "import nltk\n",
    "nltk.download('punkt')\n",
    "\n",
    "\n",
    "class Vocabulary(object):\n",
    "    def __init__(self):\n",
    "        self.word2idx = {}\n",
    "        self.idx2word = {}\n",
    "        self.idx = 0\n",
    "\n",
    "    def add_word(self, word):\n",
    "        if not word in self.word2idx:\n",
    "            self.word2idx[word] = self.idx\n",
    "            self.idx2word[self.idx] = word\n",
    "            self.idx += 1\n",
    "\n",
    "    def __call__(self, word):\n",
    "        if not word in self.word2idx:\n",
    "            return self.word2idx['<unk>']\n",
    "        return self.word2idx[word]\n",
    "\n",
    "    def __len__(self):\n",
    "        return len(self.word2idx)\n"
   ]
  },
  {
   "cell_type": "code",
   "execution_count": 4,
   "metadata": {},
   "outputs": [],
   "source": [
    "from collections import Counter\n",
    "import json\n",
    "\n",
    "def build_vocab(json_data_path, threshold):\n",
    "    data = json.load(open(json_data_path))\n",
    "    captions = []\n",
    "    for k, v in data.items():\n",
    "        if k == 'train' or k == 'validation':\n",
    "            for item in v:\n",
    "                caption = list(item.values())[0]['caption']\n",
    "                captions.append(caption)\n",
    "    counter = Counter()\n",
    "    for i, caption in enumerate(captions):\n",
    "        tokens = nltk.tokenize.word_tokenize(caption.lower())\n",
    "        counter.update(tokens)\n",
    "        if (i+1) % 500 == 0:\n",
    "            print(\"[{}/{}] Tokenized the captions.\".format(i+1, len(captions)))\n",
    "\n",
    "    # If the word frequency is less than 'threshold', then the word is discarded.\n",
    "    words = [word for word, cnt in counter.items() if cnt >= threshold]\n",
    "\n",
    "    # Create a vocab wrapper and add some special tokens.\n",
    "    vocab = Vocabulary()\n",
    "    vocab.add_word('<pad>')\n",
    "    vocab.add_word('<start>')\n",
    "    vocab.add_word('<end>')\n",
    "    vocab.add_word('<unk>')\n",
    "\n",
    "    # Add the words to the vocabulary.\n",
    "    for i, word in enumerate(words):\n",
    "        vocab.add_word(word)\n",
    "    return vocab"
   ]
  },
  {
   "cell_type": "code",
   "execution_count": 5,
   "metadata": {},
   "outputs": [
    {
     "name": "stdout",
     "output_type": "stream",
     "text": [
      "[500/2500] Tokenized the captions.\n",
      "[1000/2500] Tokenized the captions.\n",
      "[1500/2500] Tokenized the captions.\n",
      "[2000/2500] Tokenized the captions.\n",
      "[2500/2500] Tokenized the captions.\n",
      "Total vocabulary size: 2236\n",
      "Saved the vocabulary wrapper to 'vocab.pkl'\n"
     ]
    }
   ],
   "source": [
    "import pickle\n",
    "\n",
    "def main(json_data, threshold, vocab_path='vocab.pkl'):\n",
    "    built_vocab = build_vocab(json_data, threshold)\n",
    "    # Save the vocabulary to a file\n",
    "    with open(vocab_path, 'wb') as f:\n",
    "        pickle.dump(built_vocab, f)\n",
    "\n",
    "    print(\"Total vocabulary size: {}\".format(len(built_vocab)))\n",
    "    print(\"Saved the vocabulary wrapper to '{}'\".format(vocab_path))\n",
    "\n",
    "\n",
    "threshold_word_filtering = 3\n",
    "main(json_data='selected_dataset/selected_dataset_info.json', threshold=threshold_word_filtering)"
   ]
  }
 ],
 "metadata": {
  "kernelspec": {
   "display_name": "myenv",
   "language": "python",
   "name": "python3"
  },
  "language_info": {
   "codemirror_mode": {
    "name": "ipython",
    "version": 3
   },
   "file_extension": ".py",
   "mimetype": "text/x-python",
   "name": "python",
   "nbconvert_exporter": "python",
   "pygments_lexer": "ipython3",
   "version": "3.10.2"
  }
 },
 "nbformat": 4,
 "nbformat_minor": 2
}
